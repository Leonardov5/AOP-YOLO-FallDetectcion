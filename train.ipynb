{
  "cells": [
    {
      "cell_type": "code",
      "execution_count": null,
      "metadata": {
        "colab": {
          "base_uri": "https://localhost:8080/"
        },
        "id": "BQWiEQmYzLe_",
        "outputId": "73a8f25d-3f20-4164-d199-49c686c6d5ed"
      },
      "outputs": [],
      "source": [
        "!pip install ultralytics"
      ]
    },
    {
      "cell_type": "code",
      "execution_count": null,
      "metadata": {
        "colab": {
          "base_uri": "https://localhost:8080/"
        },
        "id": "stIVNDQDzWc1",
        "outputId": "71ea796d-6844-4504-87f2-00bfce08361d"
      },
      "outputs": [],
      "source": [
        "!pip install roboflow\n",
        "\n",
        "from roboflow import Roboflow\n",
        "rf = Roboflow(api_key=\"1cxhkr4MF063UEMqMV9Q\")\n",
        "project = rf.workspace(\"proj3\").project(\"top-yyyef\")\n",
        "version = project.version(3)\n",
        "dataset = version.download(\"yolov11\")\n"
      ]
    },
    {
      "cell_type": "code",
      "execution_count": null,
      "metadata": {
        "colab": {
          "background_save": true,
          "base_uri": "https://localhost:8080/"
        },
        "id": "wHE2kv9bzXAe",
        "outputId": "6c94a4a6-5813-4589-d275-f9e7192f8311"
      },
      "outputs": [],
      "source": [
        "!yolo detect train data=/teamspace/studios/this_studio/top-3/data.yaml model=/teamspace/studios/this_studio/runs/detect/train3/weights/last.pt epochs=600 imgsz=640 patience=300"
      ]
    }
  ],
  "metadata": {
    "colab": {
      "provenance": []
    },
    "kernelspec": {
      "display_name": "Python 3",
      "name": "python3"
    },
    "language_info": {
      "name": "python"
    }
  },
  "nbformat": 4,
  "nbformat_minor": 0
}
